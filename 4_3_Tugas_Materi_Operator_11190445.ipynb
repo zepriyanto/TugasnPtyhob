{
  "nbformat": 4,
  "nbformat_minor": 0,
  "metadata": {
    "colab": {
      "name": "4_3_Tugas_Materi_Operator_11190445.ipynb",
      "provenance": [],
      "collapsed_sections": []
    },
    "kernelspec": {
      "display_name": "Python 3",
      "language": "python",
      "name": "python3"
    },
    "language_info": {
      "codemirror_mode": {
        "name": "ipython",
        "version": 3
      },
      "file_extension": ".py",
      "mimetype": "text/x-python",
      "name": "python",
      "nbconvert_exporter": "python",
      "pygments_lexer": "ipython3",
      "version": "3.8.3"
    }
  },
  "cells": [
    {
      "cell_type": "code",
      "metadata": {
        "id": "wOlm8I2lPwa7"
      },
      "source": [
        ""
      ],
      "execution_count": null,
      "outputs": []
    },
    {
      "cell_type": "markdown",
      "metadata": {
        "id": "xQeqMxskP66X"
      },
      "source": [
        "##Tugas Praktek\n",
        "\n",
        "Buatlah sebuah program yang bisa menentukan suatu nilai pada variable itu genap atau ganjil! Lakukan percobaan dengan langkah berikut:\n",
        "\n",
        "Buat variabel dengan nama “angka” isi dengan nilai 10\n",
        "Ganti bagian … dengan perhitungan untuk menentukan angka modulus 2 bernilai 0.\n",
        "\n",
        "1.   Buat variabel dengan nama **“angka”** isi dengan nilai 10\n",
        "2.   Ganti bagian … dengan perhitungan untuk menentukan angka modulus 2 bernilai 0.\n",
        "\n",
        "\n",
        "Cek apakah benar dia bernilai genap maka keluarkan **\"angka termasuk bilangan genap\"**, jika sudah ganti nilai variable angka dengan nilai 5 cek lagi apakah dia bernilai ganjil dan keluarkan **\"angka termasuk bilangan ganjil\"**.\n",
        "\n",
        "Note: Anda bisa menggunakan materi-materi sebelumnya dengan menggabungkannya di tugas praktek ini untuk membantu anda dalam mengerjakan.\n",
        "\n",
        "\n",
        "Ketikan pada code cell di bawah ini pada editor:"
      ]
    },
    {
      "cell_type": "code",
      "metadata": {
        "id": "eAf4FfQ-Qh57",
        "outputId": "50b711e1-9aca-4c37-f951-190e5fcd909c"
      },
      "source": [
        "##Jawaban Tugas Praktek 4.3\n",
        "angka = 10\n",
        "if angka%2==0:\n",
        "    print (\"angka termasuk bilangan genap:\",angka)\n",
        "else:\n",
        "    print (\"angka termasuk bilangan ganjil:\",angka)\n",
        "angka=5\n",
        "if angka%2==0:\n",
        "    print (\"angka termasuk bilangan genap:\",angka)\n",
        "else:\n",
        "    print (\"angka termasuk bilangan ganjil:\",angka)"
      ],
      "execution_count": null,
      "outputs": [
        {
          "output_type": "stream",
          "text": [
            "angka termasuk bilangan genap: 10\n",
            "angka termasuk bilangan ganjil: 5\n"
          ],
          "name": "stdout"
        }
      ]
    },
    {
      "cell_type": "code",
      "metadata": {
        "id": "aBqcwRssRs5q"
      },
      "source": [
        ""
      ],
      "execution_count": null,
      "outputs": []
    },
    {
      "cell_type": "code",
      "metadata": {
        "id": "K8oo2GdlRs50"
      },
      "source": [
        ""
      ],
      "execution_count": null,
      "outputs": []
    }
  ]
}