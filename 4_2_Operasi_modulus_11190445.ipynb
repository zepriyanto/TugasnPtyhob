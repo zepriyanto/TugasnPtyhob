{
  "nbformat": 4,
  "nbformat_minor": 0,
  "metadata": {
    "colab": {
      "name": "4_2_Operasi_modulus_11190445.ipynb",
      "provenance": [],
      "collapsed_sections": []
    },
    "kernelspec": {
      "display_name": "Python 3",
      "language": "python",
      "name": "python3"
    },
    "language_info": {
      "codemirror_mode": {
        "name": "ipython",
        "version": 3
      },
      "file_extension": ".py",
      "mimetype": "text/x-python",
      "name": "python",
      "nbconvert_exporter": "python",
      "pygments_lexer": "ipython3",
      "version": "3.8.3"
    }
  },
  "cells": [
    {
      "cell_type": "code",
      "metadata": {
        "id": "vcWWM9-jNgXb"
      },
      "source": [
        ""
      ],
      "execution_count": null,
      "outputs": []
    },
    {
      "cell_type": "markdown",
      "metadata": {
        "id": "tPBAeoa4NxzC"
      },
      "source": [
        "**Operasi modulus**\n",
        "\n",
        "Modulus memang jarang dipakai namun, dibeberapa kasus modulus sangat berguna untuk mempercepat proses perhitungan. Modulus sendiri merupakan fungsi yang akan menghitung sisa dari hasil pembagian. Untuk lebih jelasnya silahkan lakukan praktek di bawah ini :\n",
        "``` javascript\n",
        "c=10\n",
        "d=3\n",
        "\n",
        "modulus=c%d\n",
        "print(\"Hasil modulus\",modulus)\n",
        "```\n",
        "Ketikan code cell di bawah ini pada editor:"
      ]
    },
    {
      "cell_type": "code",
      "metadata": {
        "id": "fhfc8ABhOxQa",
        "outputId": "3720f23f-532c-4eff-bd56-b44c6fe511b1"
      },
      "source": [
        "##Jawaban Tugas Praktek 4.2\n",
        "c=10\n",
        "d=3\n",
        "\n",
        "modulus=c%d\n",
        "print(\"Hasil modulus\",modulus)"
      ],
      "execution_count": null,
      "outputs": [
        {
          "output_type": "stream",
          "text": [
            "Hasil modulus 1\n"
          ],
          "name": "stdout"
        }
      ]
    },
    {
      "cell_type": "markdown",
      "metadata": {
        "id": "dvFFTUG2O_Cb"
      },
      "source": [
        "Kenapa modulus bisa seperti itu? (berikan jawaban anda pada cell teks diabawah ini)"
      ]
    },
    {
      "cell_type": "markdown",
      "metadata": {
        "id": "Fn8nPF6TPEGa"
      },
      "source": [
        "##Jawaban Keterangan \n",
        "Operator % berfungsi untuk mencari sisa bagi dari sebuah pembagian secara bulat.\n",
        "Misalnya, jika kita mencari sisa bagi dari pembagian 10/3, maka kita akan mendapatkan hasil 1(1+9/3=3, sisa 1)"
      ]
    }
  ]
}